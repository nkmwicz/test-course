{
 "cells": [
  {
   "cell_type": "markdown",
   "metadata": {},
   "source": [
    "# Assignment\n",
    "\n",
    "Build three visualizations for your data that are pertinent to your research question. These visualizations should be well-labeled and easily interpretable. You should also provide a short description of each visualization and discuss the main points that you derived from each."
   ]
  }
 ],
 "metadata": {
  "language_info": {
   "name": "python"
  }
 },
 "nbformat": 4,
 "nbformat_minor": 2
}
