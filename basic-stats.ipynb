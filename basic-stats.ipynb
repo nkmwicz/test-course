{
 "cells": [
  {
   "cell_type": "markdown",
   "metadata": {},
   "source": [
    "# Assignment\n",
    "\n",
    "Import your data below and run basic statistics on the data. You can use the `pandas` library to import the data and `describe()` function to run basic statistics. You should also check for missing values and handle them accordingly. Use the tools you have learned in the class so far to describe your data.\n",
    "\n",
    "Along with your code, provide a brief description of the dataset, including the source of the data, the type of data, and the columns it contains. How will this data be useful for your analysis? What are the potential shortcomings of the data? What does the basic statistics tell you about your question and what does it make you curious to learn more about?"
   ]
  }
 ],
 "metadata": {
  "language_info": {
   "name": "python"
  }
 },
 "nbformat": 4,
 "nbformat_minor": 2
}
