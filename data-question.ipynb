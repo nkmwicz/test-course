{
 "cells": [
  {
   "cell_type": "markdown",
   "metadata": {},
   "source": [
    "# Assignment\n",
    "\n",
    "Import your data below as a dataframe. Then, in the next cell, use markdown to explain the question you are interested in answering, why you chose the data, and why you think it will help you answer your question.  "
   ]
  }
 ],
 "metadata": {
  "language_info": {
   "name": "python"
  }
 },
 "nbformat": 4,
 "nbformat_minor": 2
}
